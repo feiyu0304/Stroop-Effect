{
 "cells": [
  {
   "cell_type": "markdown",
   "metadata": {},
   "source": [
    "### Analyzing the Stroop Effect\n",
    "Perform the analysis in the space below. Remember to follow [the instructions](https://docs.google.com/document/d/1-OkpZLjG_kX9J6LIQ5IltsqMzVWjh36QpnP2RYpVdPU/pub?embedded=True) and review the [project rubric](https://review.udacity.com/#!/rubrics/71/view) before submitting. Once you've completed the analysis and write up, download this file as a PDF or HTML file and submit in the next section.\n",
    "\n",
    "\n",
    "(1) What is the independent variable? What is the dependent variable?"
   ]
  },
  {
   "cell_type": "markdown",
   "metadata": {},
   "source": [
    "Independent variable for this experiment is the task conditions: congruent or incongruent. Dependent variable is task taking time."
   ]
  },
  {
   "cell_type": "markdown",
   "metadata": {},
   "source": [
    "(2) What is an appropriate set of hypotheses for this task? What kind of statistical test do you expect to perform? Justify your choices."
   ]
  },
  {
   "cell_type": "markdown",
   "metadata": {},
   "source": [
    "\n",
    "Null hypotheses H0: there is no significant difference between these two conditions which means the mean of Congruent population(muC) eaquals to the mean of Incongruent population(muI).\n",
    "Alternative hypotheses Ha: the taking time for incongruent condition is significantly greater than congruent which means the mean of Congruent population(muC) is less than the mean of Incongruent population(muI).\n",
    "\n",
    "Since this test is paired samples test, A one tail t-test will be performed due to my hypotheses(parameters: t-critial value is 1.714, df = 23 and p = 0.05). I didn't choose 2 tails t-test because the common sense of taking longer time with distraction. \n",
    "The assumptions are as followd:\n",
    "\n",
    "1. Paired samples differences are of measurement variables.\n",
    "\n",
    "2. Paired samples are independent.\n",
    "\n",
    "3. The distribution of the mean difference is normal.\n",
    "\n",
    "[1] \"http://influentialpoints.com/Training/paired_t-test-principles-properties-assumptions.htm\""
   ]
  },
  {
   "cell_type": "markdown",
   "metadata": {},
   "source": [
    "(3) Report some descriptive statistics regarding this dataset. Include at least one measure of central tendency and at least one measure of variability. The name of the data file is 'stroopdata.csv'."
   ]
  },
  {
   "cell_type": "code",
   "execution_count": 2,
   "metadata": {},
   "outputs": [
    {
     "data": {
      "text/html": [
       "<div>\n",
       "<style>\n",
       "    .dataframe thead tr:only-child th {\n",
       "        text-align: right;\n",
       "    }\n",
       "\n",
       "    .dataframe thead th {\n",
       "        text-align: left;\n",
       "    }\n",
       "\n",
       "    .dataframe tbody tr th {\n",
       "        vertical-align: top;\n",
       "    }\n",
       "</style>\n",
       "<table border=\"1\" class=\"dataframe\">\n",
       "  <thead>\n",
       "    <tr style=\"text-align: right;\">\n",
       "      <th></th>\n",
       "      <th>Congruent</th>\n",
       "      <th>Incongruent</th>\n",
       "    </tr>\n",
       "  </thead>\n",
       "  <tbody>\n",
       "    <tr>\n",
       "      <th>count</th>\n",
       "      <td>24.000000</td>\n",
       "      <td>24.000000</td>\n",
       "    </tr>\n",
       "    <tr>\n",
       "      <th>mean</th>\n",
       "      <td>14.051125</td>\n",
       "      <td>22.015917</td>\n",
       "    </tr>\n",
       "    <tr>\n",
       "      <th>std</th>\n",
       "      <td>3.559358</td>\n",
       "      <td>4.797057</td>\n",
       "    </tr>\n",
       "    <tr>\n",
       "      <th>min</th>\n",
       "      <td>8.630000</td>\n",
       "      <td>15.687000</td>\n",
       "    </tr>\n",
       "    <tr>\n",
       "      <th>25%</th>\n",
       "      <td>11.895250</td>\n",
       "      <td>18.716750</td>\n",
       "    </tr>\n",
       "    <tr>\n",
       "      <th>50%</th>\n",
       "      <td>14.356500</td>\n",
       "      <td>21.017500</td>\n",
       "    </tr>\n",
       "    <tr>\n",
       "      <th>75%</th>\n",
       "      <td>16.200750</td>\n",
       "      <td>24.051500</td>\n",
       "    </tr>\n",
       "    <tr>\n",
       "      <th>max</th>\n",
       "      <td>22.328000</td>\n",
       "      <td>35.255000</td>\n",
       "    </tr>\n",
       "  </tbody>\n",
       "</table>\n",
       "</div>"
      ],
      "text/plain": [
       "       Congruent  Incongruent\n",
       "count  24.000000    24.000000\n",
       "mean   14.051125    22.015917\n",
       "std     3.559358     4.797057\n",
       "min     8.630000    15.687000\n",
       "25%    11.895250    18.716750\n",
       "50%    14.356500    21.017500\n",
       "75%    16.200750    24.051500\n",
       "max    22.328000    35.255000"
      ]
     },
     "execution_count": 2,
     "metadata": {},
     "output_type": "execute_result"
    }
   ],
   "source": [
    "import csv\n",
    "import numpy as np\n",
    "import pandas as pd\n",
    "\n",
    "import seaborn as sns\n",
    "import matplotlib.pyplot as plt\n",
    "%matplotlib inline\n",
    "from scipy import stats\n",
    "\n",
    "data = pd.read_csv('stroopdata.csv')\n",
    "   \n",
    "data.describe()\n",
    "\n",
    "    "
   ]
  },
  {
   "cell_type": "markdown",
   "metadata": {},
   "source": [
    "Congruent mean:14.05\n",
    "Incongruent mean: 22.01\n",
    "Congruent std: 3.56\n",
    "Incongruent std: 4.80"
   ]
  },
  {
   "cell_type": "markdown",
   "metadata": {},
   "source": [
    "(4) Provide one or two visualizations that show the distribution of the sample data. Write one or two sentences noting what you observe about the plot or plots."
   ]
  },
  {
   "cell_type": "code",
   "execution_count": 3,
   "metadata": {},
   "outputs": [
    {
     "data": {
      "image/png": "[encoded data removed]",
      "text/plain": [
       "<matplotlib.figure.Figure at 0x7fa2667b20b8>"
      ]
     },
     "metadata": {},
     "output_type": "display_data"
    }
   ],
   "source": [
    "a = data['Congruent']\n",
    "b = data['Incongruent']\n",
    "legend = ['Congruent','Incongruent']\n",
    "plt.hist([a,b])\n",
    "plt.xlabel(\"Time\")\n",
    "plt.ylabel(\"Frequency\")\n",
    "plt.legend(legend)\n",
    "plt.title('Histogram of Stroopdata')\n",
    "plt.show()\n"
   ]
  },
  {
   "cell_type": "markdown",
   "metadata": {},
   "source": [
    "From this plot, the average time taking of incongruent data is obviously greater than the congruent one. This corresponds with our hypothesis."
   ]
  },
  {
   "cell_type": "markdown",
   "metadata": {},
   "source": [
    "(5) Now, perform the statistical test and report the results. What is the confidence level and your critical statistic value? Do you reject the null hypothesis or fail to reject it? Come to a conclusion in terms of the experiment task. Did the results match up with your expectations?"
   ]
  },
  {
   "cell_type": "code",
   "execution_count": 5,
   "metadata": {},
   "outputs": [
    {
     "name": "stdout",
     "output_type": "stream",
     "text": [
      "s = 4.86482691036\n",
      "t = 8.02070694411\n",
      "p = 2.05150029187e-08\n",
      "CI = [6.26274058666,9.66684274668]\n"
     ]
    }
   ],
   "source": [
    "#Sample Size\n",
    "N = 24\n",
    "c = b - a\n",
    "\n",
    "# Calculate the Standard Deviation\n",
    "# Calculate the variance to get the standard deviation\n",
    "# For unbiased max likelihood estimate we have to divide the var by N-1, and therefore the parameter ddof = 1\n",
    "var_c = c.var(ddof=1)\n",
    "\n",
    "#std deviation\n",
    "s = np.sqrt(var_c)\n",
    "\n",
    "print(\"s = \" + str(s))\n",
    "\n",
    "## Calculate the t-statistics\n",
    "t = (b.mean() - a.mean())/(s/np.sqrt(N))\n",
    "\n",
    "# compare with the critical t-value\n",
    "\n",
    "# degrees of freedom\n",
    "df = N - 1\n",
    "\n",
    "#p-value after comparison with the t \n",
    "p = 1 - stats.t.cdf(t,df=df)\n",
    "\n",
    "print(\"t = \" + str(t))\n",
    "print(\"p = \" + str(p))\n",
    "\n",
    "#Confidence Interval, t-critial value is 1.714 with df = 23 and p = 0.05\n",
    "\n",
    "d = (b.mean() - a.mean())\n",
    "\n",
    "print(\"CI = [\" + str(d - 1.714*(s/np.sqrt(N))) +',' + str(d + 1.714*(s/np.sqrt(N))) +']')\n",
    "\n",
    "\n"
   ]
  },
  {
   "cell_type": "code",
   "execution_count": null,
   "metadata": {},
   "outputs": [],
   "source": []
  },
  {
   "cell_type": "markdown",
   "metadata": {},
   "source": [
    "Based on our results, a 8.020 t value is significantly greater than t-critical value 1.714. The null hypothesis is rejected which means people generally taking more time when doing incongruent texting. Correspondingly, 2.052e-08 p value is significantly less than the expected p value .05.\n",
    "\n",
    "Confidence level is [6.26274058666,9.66684274668] which means people doing incongruent texting takes  6 to 9 seconds longer than congruent.\n",
    "This results match up with our expectations.\n",
    "\n",
    "(6) I think stroop effect is caused by selective attention. Some people are apt to catch color first while others are apt to catch text first. Text becomes a distraction if catching color first, and vice versa. Our brain needs more time to figure out the misleading or distraction. \n",
    "\n",
    "When I was a child, I played a game just like stroop effect: making a circle with my left hand while makeing a line with right hand. It definitely took more time for me to do this than making congruent action using both hands."
   ]
  },
  {
   "cell_type": "markdown",
   "metadata": {},
   "source": []
  }
 ],
 "metadata": {
  "kernelspec": {
   "display_name": "Python 3",
   "language": "python",
   "name": "python3"
  },
  "language_info": {
   "codemirror_mode": {
    "name": "ipython",
    "version": 3
   },
   "file_extension": ".py",
   "mimetype": "text/x-python",
   "name": "python",
   "nbconvert_exporter": "python",
   "pygments_lexer": "ipython3",
   "version": "3.6.3"
  }
 },
 "nbformat": 4,
 "nbformat_minor": 2
}
